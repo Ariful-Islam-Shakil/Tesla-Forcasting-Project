{
 "cells": [
  {
   "cell_type": "markdown",
   "id": "f58cc151",
   "metadata": {},
   "source": []
  },
  {
   "cell_type": "code",
   "execution_count": 1,
   "id": "565b553b",
   "metadata": {},
   "outputs": [],
   "source": [
    "import pandas as pd\n",
    "import joblib\n",
    "from sklearn.metrics import mean_absolute_error, mean_squared_error, r2_score, mean_absolute_percentage_error\n",
    "import numpy as np\n",
    "import pandas as pd\n",
    "from sklearn.preprocessing import StandardScaler, MinMaxScaler\n",
    "import matplotlib.pyplot as plt\n",
    "import seaborn as sns"
   ]
  },
  {
   "cell_type": "code",
   "execution_count": 2,
   "id": "9afea334",
   "metadata": {},
   "outputs": [],
   "source": [
    "\n",
    "model_xgb = joblib.load(r'D:\\Cloudly IO\\Tesla-Forcasting-Project\\notebook\\saved_models\\model_xgb.pkl') #Load model\n",
    "model_lnr = joblib.load(r'D:\\Cloudly IO\\Tesla-Forcasting-Project\\notebook\\saved_models\\model_lnr.pkl') #Load model\n",
    "model_nn = joblib.load(r'D:\\Cloudly IO\\Tesla-Forcasting-Project\\notebook\\saved_models\\model_nn.pkl') #Load model\n",
    "model_lstm = joblib.load(r'D:\\Cloudly IO\\Tesla-Forcasting-Project\\notebook\\saved_models\\model_lstm.pkl') #Load model\n",
    "model_gru = joblib.load(r'D:\\Cloudly IO\\Tesla-Forcasting-Project\\notebook\\saved_models\\model_gru.pkl') #Load model"
   ]
  },
  {
   "cell_type": "code",
   "execution_count": 7,
   "id": "e5301fb6",
   "metadata": {},
   "outputs": [],
   "source": [
    "def inference(data):\n",
    "    import numpy as np\n",
    "    scaler_X = joblib.load(r'D:\\Cloudly IO\\Tesla-Forcasting-Project\\notebook\\saved_models\\scaler_X.pkl')\n",
    "    scaler_y = joblib.load(r'D:\\Cloudly IO\\Tesla-Forcasting-Project\\notebook\\saved_models\\scaler_y.pkl')\n",
    "\n",
    "\n",
    "    # Ensure input is 2D array\n",
    "    data = np.array(data).reshape(1, -1)\n",
    "\n",
    "    # Standardize input features\n",
    "    data_scaled = scaler_X.fit_transform(data)\n",
    "\n",
    "    # Predict and inverse scale\n",
    "    pred_lnr = model_lnr.predict(data_scaled).reshape(-1, 1)\n",
    "    pred_xgb = model_xgb.predict(data_scaled).reshape(-1, 1)\n",
    "    pred_nn = model_nn.predict(data_scaled).reshape(-1, 1)\n",
    "\n",
    "    # Inverse transform predictions\n",
    "    output_lnr = scaler_y.inverse_transform(pred_lnr)\n",
    "    output_xgb = scaler_y.inverse_transform(pred_xgb)\n",
    "    output_nn = scaler_y.inverse_transform(pred_nn)\n",
    "\n",
    "    # Print predictions\n",
    "    print(\"Output From Linear Regression:\", output_lnr[0][0])\n",
    "    print(\"Output From XGBoost:\", output_xgb[0][0])\n",
    "    print(\"Output From Neural Network:\", output_nn[0][0])\n"
   ]
  },
  {
   "cell_type": "code",
   "execution_count": 8,
   "id": "0ee77210",
   "metadata": {},
   "outputs": [
    {
     "name": "stderr",
     "output_type": "stream",
     "text": [
      "d:\\Cloudly IO\\Tesla-Forcasting-Project\\.venv\\Lib\\site-packages\\sklearn\\utils\\validation.py:2739: UserWarning: X does not have valid feature names, but LinearRegression was fitted with feature names\n",
      "  warnings.warn(\n"
     ]
    },
    {
     "name": "stdout",
     "output_type": "stream",
     "text": [
      "\u001b[1m1/1\u001b[0m \u001b[32m━━━━━━━━━━━━━━━━━━━━\u001b[0m\u001b[37m\u001b[0m \u001b[1m0s\u001b[0m 202ms/step\n",
      "Output From Linear Regression: 108.18950729925058\n",
      "Output From XGBoost: 108.88429\n",
      "Output From Neural Network: 109.2015\n"
     ]
    }
   ],
   "source": [
    "inference([[338, 344, 331, 335, 334]])"
   ]
  },
  {
   "cell_type": "code",
   "execution_count": 18,
   "id": "dfe5546c",
   "metadata": {},
   "outputs": [],
   "source": [
    "queue_data = np.array(\n",
    "    [[236.86000061, 240.11999512, 234.8999939 , 237.49000549, 248.90399628],\n",
    "       [236.13999939, 241.25      , 235.30000305, 240.44999695, 247.49899597],\n",
    "       [238.11000061, 238.96000671, 232.03999329, 234.96000671, 245.74099731],\n",
    "       [235.1000061 , 235.5       , 231.28999329, 233.94000244, 243.47399902],\n",
    "       [230.57000732, 230.92999268, 225.36999512, 227.22000122, 240.0519989 ]]\n",
    ")"
   ]
  },
  {
   "cell_type": "code",
   "execution_count": 19,
   "id": "746c622e",
   "metadata": {},
   "outputs": [],
   "source": [
    "import numpy as np\n",
    "\n",
    "# Example: queue_data is initialized with a 5x5 sequence\n",
    "# queue_data = X_train_RNN[2000]  # Must be shape (5, 5)\n",
    "\n",
    "def inference_seq(new_row):\n",
    "    scaler_X = joblib.load(r'D:\\Cloudly IO\\Tesla-Forcasting-Project\\notebook\\saved_models\\scaler_X.pkl')\n",
    "    scaler_y = joblib.load(r'D:\\Cloudly IO\\Tesla-Forcasting-Project\\notebook\\saved_models\\scaler_y.pkl')\n",
    "    global queue_data\n",
    "    new_row.append(np.mean(queue_data[:,4]))\n",
    "\n",
    "    # Ensure the new_row is of shape (5,)\n",
    "    new_row = np.array(new_row)\n",
    "    if new_row.shape != (5,):\n",
    "        raise ValueError(\"Each input row must be of shape (5,)\")\n",
    "\n",
    "    # Append the new row and remove the first row\n",
    "    queue_data = np.vstack([queue_data[1:], new_row])\n",
    "\n",
    "    # Scale input using the same scaler as used during training\n",
    "    queue_scaled = scaler_X.transform(queue_data)\n",
    "\n",
    "    # Reshape for model input: (1, 5, 5)\n",
    "    data_scaled = queue_scaled.reshape(1, 5, 5)\n",
    "\n",
    "    # Predict\n",
    "    pred_lstm_scaled = model_lstm.predict(data_scaled).reshape(-1, 1)\n",
    "    pred_gru_scaled = model_gru.predict(data_scaled).reshape(-1, 1)\n",
    "\n",
    "    # Inverse transform to get predictions in original target scale\n",
    "    pred_lstm = scaler_y.inverse_transform(pred_lstm_scaled)\n",
    "    pred_gru = scaler_y.inverse_transform(pred_gru_scaled)\n",
    "\n",
    "    # Output\n",
    "    print(\"Output From LSTM:\", pred_lstm[0][0])\n",
    "    print(\"Output From GRU :\", pred_gru[0][0])\n"
   ]
  },
  {
   "cell_type": "code",
   "execution_count": 22,
   "id": "24196464",
   "metadata": {},
   "outputs": [
    {
     "name": "stderr",
     "output_type": "stream",
     "text": [
      "d:\\Cloudly IO\\Tesla-Forcasting-Project\\.venv\\Lib\\site-packages\\sklearn\\utils\\validation.py:2739: UserWarning: X does not have valid feature names, but MinMaxScaler was fitted with feature names\n",
      "  warnings.warn(\n"
     ]
    },
    {
     "name": "stdout",
     "output_type": "stream",
     "text": [
      "\u001b[1m1/1\u001b[0m \u001b[32m━━━━━━━━━━━━━━━━━━━━\u001b[0m\u001b[37m\u001b[0m \u001b[1m0s\u001b[0m 192ms/step\n",
      "\u001b[1m1/1\u001b[0m \u001b[32m━━━━━━━━━━━━━━━━━━━━\u001b[0m\u001b[37m\u001b[0m \u001b[1m0s\u001b[0m 138ms/step\n",
      "Output From LSTM: 325.52597\n",
      "Output From GRU : 331.7526\n"
     ]
    }
   ],
   "source": [
    "inference_seq([338, 344, 331, 340])"
   ]
  },
  {
   "cell_type": "code",
   "execution_count": null,
   "id": "2d6d0a77",
   "metadata": {},
   "outputs": [],
   "source": []
  }
 ],
 "metadata": {
  "kernelspec": {
   "display_name": ".venv",
   "language": "python",
   "name": "python3"
  },
  "language_info": {
   "codemirror_mode": {
    "name": "ipython",
    "version": 3
   },
   "file_extension": ".py",
   "mimetype": "text/x-python",
   "name": "python",
   "nbconvert_exporter": "python",
   "pygments_lexer": "ipython3",
   "version": "3.12.6"
  }
 },
 "nbformat": 4,
 "nbformat_minor": 5
}
